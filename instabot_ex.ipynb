{
 "cells": [
  {
   "cell_type": "markdown",
   "id": "332fc3b4-cc88-471d-8d5c-cc8a1abd2589",
   "metadata": {},
   "source": [
    "### import libraries"
   ]
  },
  {
   "cell_type": "code",
   "execution_count": 35,
   "id": "ed396fe1-acaf-4161-b82a-2414b9aa099d",
   "metadata": {
    "tags": []
   },
   "outputs": [],
   "source": [
    "import pandas as pd\n",
    "from bs4 import BeautifulSoup\n",
    "from selenium import webdriver\n",
    "from selenium.webdriver.common.keys import Keys\n",
    "from selenium.webdriver.support import expected_conditions as EC\n",
    "from selenium.webdriver.common.by import By\n",
    "from selenium.webdriver.support.wait import WebDriverWait\n",
    "import time, urllib.request\n",
    "import requests\n",
    "import re \n",
    "import os\n",
    "import wget\n",
    "import instaloader"
   ]
  },
  {
   "cell_type": "markdown",
   "id": "fde5af6b-7518-4ff2-bde8-7807daec2ce2",
   "metadata": {
    "tags": []
   },
   "source": [
    "### create driver"
   ]
  },
  {
   "cell_type": "code",
   "execution_count": 36,
   "id": "0ab228b5-9d7d-41d4-862e-7a8ab43806b6",
   "metadata": {
    "tags": []
   },
   "outputs": [],
   "source": [
    "driver = webdriver.Chrome('chromedriver')\n",
    "\n",
    "driver.get(\"https://www.instagram.com/\")"
   ]
  },
  {
   "cell_type": "code",
   "execution_count": 37,
   "id": "f4533c72-7023-44d8-97a3-af3bccf75a1e",
   "metadata": {
    "tags": []
   },
   "outputs": [],
   "source": [
    "username = WebDriverWait(driver, 10).until(EC.element_to_be_clickable((By.CSS_SELECTOR, \"input[name='username']\")))\n",
    "password = WebDriverWait(driver, 10).until(EC.element_to_be_clickable((By.CSS_SELECTOR, \"input[name='password']\")))\n",
    "\n",
    "username.clear()\n",
    "password.clear()\n",
    "\n",
    "username.send_keys(\"cannindica5@gmail.com\")\n",
    "password.send_keys(\"Punknotdead123!!!\")\n",
    "\n",
    "log_in = WebDriverWait(driver, 10).until(EC.element_to_be_clickable((By.CSS_SELECTOR, \"button[type='submit']\"))).click()\n",
    "\n",
    "\n",
    "try:\n",
    "    not_now = WebDriverWait(driver, 10).until(EC.element_to_be_clickable((By.XPATH, \"//div[contains(text(), 'Not Now')]\"))).click()\n",
    "except:\n",
    "    pass\n",
    "try:\n",
    "    not_now = WebDriverWait(driver, 10).until(EC.element_to_be_clickable((By.XPATH, \"//button[contains(text(), 'Not Now')]\"))).click()\n",
    "except:\n",
    "    pass\n",
    "try:\n",
    "    not_now2 = WebDriverWait(driver, 10).until(EC.element_to_be_clickable((By.XPATH, \"//button[contains(text(), 'Not Now')]\"))).click()\n",
    "except:\n",
    "    pass"
   ]
  },
  {
   "cell_type": "markdown",
   "id": "64e1c95d-0ff2-42e7-a568-4fc71bc0ab0a",
   "metadata": {
    "tags": []
   },
   "source": [
    "### search keyword with hashtag"
   ]
  },
  {
   "cell_type": "code",
   "execution_count": 38,
   "id": "0160c4ad-fff3-4726-a57a-114aabbb9692",
   "metadata": {
    "tags": []
   },
   "outputs": [],
   "source": [
    "searchbox = WebDriverWait(driver, 10).until(EC.element_to_be_clickable((By.XPATH, \"//input[@placeholder='Search']\")))\n",
    "searchbox.clear()\n",
    "keyword = \"#cat\"\n",
    "searchbox.send_keys(keyword)\n",
    "time.sleep(5)\n",
    "searchbox.send_keys(Keys.ENTER)\n",
    "time.sleep(5)\n",
    "searchbox.send_keys(Keys.ENTER)"
   ]
  },
  {
   "cell_type": "code",
   "execution_count": 39,
   "id": "b71adbba-e1f2-4e2f-a9c3-d0388d7f7dcd",
   "metadata": {
    "tags": []
   },
   "outputs": [],
   "source": [
    "\"\"\"\n",
    "get div list class name of top posts.\n",
    "\"\"\"\n",
    "element = WebDriverWait(driver, 10).until(\n",
    "    EC.presence_of_element_located((By.CLASS_NAME, \"_aaq8\"))\n",
    ")"
   ]
  },
  {
   "cell_type": "markdown",
   "id": "00eb9075-8008-4418-bdba-4a9782b47761",
   "metadata": {
    "jupyter": {
     "outputs_hidden": true
    },
    "tags": []
   },
   "source": [
    "### convert to BeautifulSoup"
   ]
  },
  {
   "cell_type": "code",
   "execution_count": 40,
   "id": "d9256a62-2872-4989-b58a-d25ea1782189",
   "metadata": {
    "tags": []
   },
   "outputs": [],
   "source": [
    "soup = BeautifulSoup(element.get_attribute(\"outerHTML\"), 'html.parser')"
   ]
  },
  {
   "cell_type": "code",
   "execution_count": 41,
   "id": "534f8330-6f4a-4660-a177-e6ce9265fd94",
   "metadata": {
    "tags": []
   },
   "outputs": [
    {
     "name": "stdout",
     "output_type": "stream",
     "text": [
      "YOURPATH/gatitos_analogos/2023-07-30_18-42-09_UTC.jpg exists [😸 Michina. 📷 @tamaramozeris •…] json \n",
      "YOURPATH/cats.who.share.one.braincell/2023-07-30_18-33-22_UTC.jpg [Teamwork! 🐈🐈🐈  #cat #cats #ca…] YOURPATH/cats.who.share.one.braincell/2023-07-30_18-33-22_UTC.mp4 json \n",
      "YOURPATH/the3crazycats/2023-07-30_18-38-37_UTC.jpg exists [Happy Sunday ❤️ #Vicky #furre…] json \n",
      "YOURPATH/marco_the_tuxedocat/2023-07-30_18-28-25_UTC_1.jpg exists YOURPATH/marco_the_tuxedocat/2023-07-30_18-28-25_UTC_2.jpg exists YOURPATH/marco_the_tuxedocat/2023-07-30_18-28-25_UTC_2.mp4 exists [Oi, woman, let me in!!!! 😹😹😹 …] json \n",
      "YOURPATH/oscar_marquardt_kitty/2023-07-30_18-53-13_UTC.jpg exists [I wish I could hug you all 🥹.…] json \n",
      "YOURPATH/bazildazzleandfergus/2023-07-30_18-43-15_UTC.jpg exists [Fergus takes #SundayFunday ve…] json \n",
      "YOURPATH/honorine.british/2023-07-30_18-47-51_UTC.jpg [Baby Tao 🥹🧡  • • •  #kitten #…] json \n",
      "YOURPATH/merlenavit/2023-07-30_18-47-21_UTC.jpg [💕🐾💕 Lisa-Rosa  hon är så dukt…] YOURPATH/merlenavit/2023-07-30_18-47-21_UTC.mp4 json \n",
      "YOURPATH/misty_the.mischievous/2023-07-30_18-20-57_UTC.jpg exists [Take My Heart And Walk Throug…] json \n"
     ]
    }
   ],
   "source": [
    "some_div = soup.select('div > div > div > div > div > a')\n",
    "for i in some_div:\n",
    "    target = re.split('/', i['href'])[2]\n",
    "    \n",
    "    L = instaloader.Instaloader(dirname_pattern='YOURPATH/{target}')\n",
    "    post = instaloader.Post.from_shortcode(L.context, target)\n",
    "    L.download_post(post, target=post.owner_username)"
   ]
  },
  {
   "cell_type": "code",
   "execution_count": 42,
   "id": "5e2cca63-1df3-4ca2-8978-6b91095e6663",
   "metadata": {},
   "outputs": [],
   "source": [
    "path1 = os.getcwd() + '/YOURPATH/'\n",
    "\n",
    "for i in os.listdir(path1):\n",
    "    for j in os.listdir(path1 + '{}'.format(i)):\n",
    "        if j.endswith(\".json.xz\") or j.endswith(\".txt\"):\n",
    "            # remove unused file\n",
    "            os.remove(os.path.join(path1 + '{}/'.format(i), j))\n",
    "    "
   ]
  },
  {
   "cell_type": "code",
   "execution_count": 44,
   "id": "087f0f5e-c6a0-4ca8-98bf-0c31aea80efc",
   "metadata": {
    "tags": []
   },
   "outputs": [
    {
     "name": "stdout",
     "output_type": "stream",
     "text": [
      "Collecting session_info\n",
      "  Downloading session_info-1.0.0.tar.gz (24 kB)\n",
      "  Preparing metadata (setup.py) ... \u001b[?25ldone\n",
      "\u001b[?25hCollecting stdlib_list\n",
      "  Downloading stdlib_list-0.9.0-py3-none-any.whl (75 kB)\n",
      "\u001b[2K     \u001b[38;2;114;156;31m━━━━━━━━━━━━━━━━━━━━━━━━━━━━━━━━━━━━━━━━\u001b[0m \u001b[32m75.6/75.6 kB\u001b[0m \u001b[31m1.0 MB/s\u001b[0m eta \u001b[36m0:00:00\u001b[0m[31m3.5 MB/s\u001b[0m eta \u001b[36m0:00:01\u001b[0m\n",
      "\u001b[?25hBuilding wheels for collected packages: session_info\n",
      "  Building wheel for session_info (setup.py) ... \u001b[?25ldone\n",
      "\u001b[?25h  Created wheel for session_info: filename=session_info-1.0.0-py3-none-any.whl size=8026 sha256=9c73bc7a36bbfa2a89aa5856221e079dae82b39b32afc4e9eb9f821e4ee15225\n",
      "  Stored in directory: /home/gili/.cache/pip/wheels/4e/56/35/a748fc57279a4b84d0b332879445fed1ad8478e7257986b015\n",
      "Successfully built session_info\n",
      "Installing collected packages: stdlib_list, session_info\n",
      "Successfully installed session_info-1.0.0 stdlib_list-0.9.0\n"
     ]
    }
   ],
   "source": [
    "!pip install session_info"
   ]
  },
  {
   "cell_type": "code",
   "execution_count": 45,
   "id": "8f29e187-fdfc-4caa-ad9a-0c6070f9b500",
   "metadata": {
    "tags": []
   },
   "outputs": [
    {
     "data": {
      "text/html": [
       "<details>\n",
       "<summary>Click to view session information</summary>\n",
       "<pre>\n",
       "-----\n",
       "bs4                 4.11.2\n",
       "instaloader         4.10\n",
       "pandas              1.5.3\n",
       "requests            2.28.2\n",
       "selenium            4.8.2\n",
       "session_info        1.0.0\n",
       "wget                3.2\n",
       "-----\n",
       "</pre>\n",
       "<details>\n",
       "<summary>Click to view modules imported as dependencies</summary>\n",
       "<pre>\n",
       "anyio               NA\n",
       "arrow               1.2.3\n",
       "asttokens           NA\n",
       "attr                22.2.0\n",
       "babel               2.12.1\n",
       "backcall            0.2.0\n",
       "certifi             2022.12.07\n",
       "charset_normalizer  3.1.0\n",
       "comm                0.1.2\n",
       "cython_runtime      NA\n",
       "dateutil            2.8.2\n",
       "debugpy             1.6.6\n",
       "decorator           5.1.1\n",
       "executing           1.2.0\n",
       "fastjsonschema      NA\n",
       "fqdn                NA\n",
       "google              NA\n",
       "html5lib            1.1\n",
       "idna                3.4\n",
       "ipykernel           6.21.3\n",
       "ipython_genutils    0.2.0\n",
       "isoduration         NA\n",
       "jedi                0.18.2\n",
       "jinja2              3.1.2\n",
       "json5               NA\n",
       "jsonpointer         2.3\n",
       "jsonschema          4.17.3\n",
       "jupyter_events      0.6.3\n",
       "jupyter_server      2.5.0\n",
       "jupyterlab_server   2.20.0\n",
       "lxml                4.9.2\n",
       "markupsafe          2.1.2\n",
       "mpl_toolkits        NA\n",
       "nbformat            5.7.3\n",
       "numpy               1.23.5\n",
       "packaging           23.0\n",
       "parso               0.8.3\n",
       "pexpect             4.8.0\n",
       "pickleshare         0.7.5\n",
       "pkg_resources       NA\n",
       "platformdirs        3.1.1\n",
       "prometheus_client   NA\n",
       "prompt_toolkit      3.0.38\n",
       "psutil              5.9.4\n",
       "ptyprocess          0.7.0\n",
       "pure_eval           0.2.2\n",
       "pydev_ipython       NA\n",
       "pydevconsole        NA\n",
       "pydevd              2.9.5\n",
       "pydevd_file_utils   NA\n",
       "pydevd_plugins      NA\n",
       "pydevd_tracing      NA\n",
       "pygments            2.14.0\n",
       "pyrsistent          NA\n",
       "pythonjsonlogger    NA\n",
       "pytz                2022.7.1\n",
       "rfc3339_validator   0.1.4\n",
       "rfc3986_validator   0.1.1\n",
       "send2trash          NA\n",
       "sitecustomize       NA\n",
       "six                 1.16.0\n",
       "sniffio             1.3.0\n",
       "socks               1.7.1\n",
       "soupsieve           2.4\n",
       "stack_data          0.6.2\n",
       "tornado             6.2\n",
       "traitlets           5.9.0\n",
       "uri_template        NA\n",
       "urllib3             1.26.15\n",
       "wcwidth             0.2.6\n",
       "webcolors           1.11.1\n",
       "webencodings        0.5.1\n",
       "websocket           1.5.1\n",
       "yaml                6.0\n",
       "zmq                 25.0.1\n",
       "zope                NA\n",
       "</pre>\n",
       "</details> <!-- seems like this ends pre, so might as well be explicit -->\n",
       "<pre>\n",
       "-----\n",
       "IPython             8.11.0\n",
       "jupyter_client      8.0.3\n",
       "jupyter_core        5.3.0\n",
       "jupyterlab          3.6.1\n",
       "notebook            6.5.3\n",
       "-----\n",
       "Python 3.11.2 (main, Mar 13 2023, 12:18:29) [GCC 12.2.0]\n",
       "Linux-6.1.0-kali9-amd64-x86_64-with-glibc2.36\n",
       "-----\n",
       "Session information updated at 2023-07-31 02:04\n",
       "</pre>\n",
       "</details>"
      ],
      "text/plain": [
       "<IPython.core.display.HTML object>"
      ]
     },
     "execution_count": 45,
     "metadata": {},
     "output_type": "execute_result"
    }
   ],
   "source": [
    "import session_info\n",
    "session_info.show()"
   ]
  },
  {
   "cell_type": "markdown",
   "id": "358003f5-67fe-4c13-800b-c8602c7b9bea",
   "metadata": {},
   "source": [
    "- Note: use half of size window.\n",
    "\n",
    "\n",
    "## Happy Coding"
   ]
  }
 ],
 "metadata": {
  "kernelspec": {
   "display_name": "Python 3 (ipykernel)",
   "language": "python",
   "name": "python3"
  },
  "language_info": {
   "codemirror_mode": {
    "name": "ipython",
    "version": 3
   },
   "file_extension": ".py",
   "mimetype": "text/x-python",
   "name": "python",
   "nbconvert_exporter": "python",
   "pygments_lexer": "ipython3",
   "version": "3.11.2"
  }
 },
 "nbformat": 4,
 "nbformat_minor": 5
}
